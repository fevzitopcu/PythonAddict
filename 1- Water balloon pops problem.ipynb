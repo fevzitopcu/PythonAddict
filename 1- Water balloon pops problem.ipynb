{
 "cells": [
  {
   "cell_type": "markdown",
   "metadata": {},
   "source": [
    "Exercise -92\n",
    "Once a water balloon pops, is soaks the area around it. The ground gets drier the further away you travel from the balloon.\n",
    "The effect of a water balloon popping can be modeled using a list. Create a function that takes a list which takes the pre-pop state and returns the state after the balloon is popped. The pre-pop state will contain at most a single balloon, whose size is represented by the only non-zero element.\n",
    "Examples\n",
    "[0, 0, 0, 0, 4, 0, 0, 0, 0] ➞ [0, 1, 2, 3, 4, 3, 2, 1, 0]\n",
    "\n",
    "[0, 0, 0, 3, 0, 0, 0] ➞ [0, 1, 2, 3, 2, 1, 0]\n",
    "\n",
    "[0, 0, 2, 0, 0] ➞ [0, 1, 2, 1, 0]\n",
    "\n",
    "[0] ➞ [0]\n",
    "Notes\n",
    "Length of input list is always odd.\n",
    "The input list will always be the exact length it takes for there to be exactly one border zero.\n",
    "If the input list consists only of zeroes, return the same list."
   ]
  },
  {
   "cell_type": "code",
   "execution_count": 9,
   "metadata": {},
   "outputs": [
    {
     "name": "stdout",
     "output_type": "stream",
     "text": [
      "Before ballon pops :  [0, 0, 0, 0, 4, 0, 0, 0, 0]\n",
      "After ballon pops   : [0, 1, 2, 3, 4, 3, 2, 1, 0]\n"
     ]
    }
   ],
   "source": [
    "balon = int(input(\"enter the size of ballon: \"))\n",
    "\n",
    "list =[0]*((balon*2)+1)\n",
    "list[balon]=balon\n",
    "print(\"Before ballon pops : \" ,list)\n",
    "\n",
    "for i in range(balon):\n",
    "    list[i]=i\n",
    "\n",
    "for j in range(balon,-1,-1):\n",
    "    list[-j-1]=j\n",
    "print(\"After ballon pops   :\" ,list)\n",
    "  \n"
   ]
  }
 ],
 "metadata": {
  "interpreter": {
   "hash": "9e420b6fa3fd7b9b81ddbcd254cb3b74e9e7beae700425c33bc97f90b494e529"
  },
  "kernelspec": {
   "display_name": "Python 3.9.2 64-bit",
   "name": "python3"
  },
  "language_info": {
   "codemirror_mode": {
    "name": "ipython",
    "version": 3
   },
   "file_extension": ".py",
   "mimetype": "text/x-python",
   "name": "python",
   "nbconvert_exporter": "python",
   "pygments_lexer": "ipython3",
   "version": "3.9.2"
  },
  "orig_nbformat": 4
 },
 "nbformat": 4,
 "nbformat_minor": 2
}
