{
 "cells": [
  {
   "cell_type": "code",
   "execution_count": 1,
   "metadata": {},
   "outputs": [
    {
     "name": "stdout",
     "output_type": "stream",
     "text": [
      "['the', 'Clarusway', 'is', 'the', 'best']\n",
      "en uzun kelime 9 karakter uzunluğundaki 'Clarusway'\n"
     ]
    }
   ],
   "source": [
    "word = \"the Clarusway is the best\"\n",
    "word_list = word.split()\n",
    "print(word_list)\n",
    "i=0\n",
    "longest = 0\n",
    "\n",
    "\n",
    "while i<len(word_list):\n",
    "    if len(word_list[i])>longest:\n",
    "        longest = len(word_list[i])\n",
    "        longest_word=word_list[i]\n",
    "    i+=1\n",
    "print(f\"en uzun kelime {longest} karakter uzunluğundaki '{longest_word}'\")"
   ]
  }
 ],
 "metadata": {
  "interpreter": {
   "hash": "9e420b6fa3fd7b9b81ddbcd254cb3b74e9e7beae700425c33bc97f90b494e529"
  },
  "kernelspec": {
   "display_name": "Python 3.9.2 64-bit",
   "language": "python",
   "name": "python3"
  },
  "language_info": {
   "codemirror_mode": {
    "name": "ipython",
    "version": 3
   },
   "file_extension": ".py",
   "mimetype": "text/x-python",
   "name": "python",
   "nbconvert_exporter": "python",
   "pygments_lexer": "ipython3",
   "version": "3.9.2"
  },
  "orig_nbformat": 4
 },
 "nbformat": 4,
 "nbformat_minor": 2
}
