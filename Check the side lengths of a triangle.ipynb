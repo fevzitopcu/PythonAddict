{
 "cells": [
  {
   "cell_type": "markdown",
   "metadata": {},
   "source": [
    "Python exercise\n",
    "\n",
    "If the entered side lengths do not form a triangle, write the code that determines the type of triangle according to the three side information entered by the user. ( In absolute value, the difference of two sides is taken, if the difference is greater than the other side, the entered values ​​do not form a triangle. This is done for all sides."
   ]
  },
  {
   "cell_type": "code",
   "execution_count": 2,
   "metadata": {},
   "outputs": [
    {
     "name": "stdout",
     "output_type": "stream",
     "text": [
      "The values:  3 5 6\n",
      "Scalene Triangle\n"
     ]
    }
   ],
   "source": [
    "a,b,c = list(map(int,input(\"Enter side values of a triangle: \").split()))\n",
    "print(\"The entered values: \", a , b, c)\n",
    "\n",
    "check = a>abs(b-c) and b>abs(a-c) and c>abs(b-a)\n",
    "\n",
    "if check:\n",
    "    if a==b==c:\n",
    "        print(\"quilateral triangle\".title())\n",
    "    elif a==b or b==c or a==c:\n",
    "        print(\"Isosceles triangle\".title())\n",
    "    else:\n",
    "        print(\"scalene triangle\".title())\n",
    "else:\n",
    "    print(\"The entered values ​​do not form a triangle\")"
   ]
  }
 ],
 "metadata": {
  "interpreter": {
   "hash": "9e420b6fa3fd7b9b81ddbcd254cb3b74e9e7beae700425c33bc97f90b494e529"
  },
  "kernelspec": {
   "display_name": "Python 3.9.2 64-bit",
   "language": "python",
   "name": "python3"
  },
  "language_info": {
   "codemirror_mode": {
    "name": "ipython",
    "version": 3
   },
   "file_extension": ".py",
   "mimetype": "text/x-python",
   "name": "python",
   "nbconvert_exporter": "python",
   "pygments_lexer": "ipython3",
   "version": "3.9.2"
  },
  "orig_nbformat": 4
 },
 "nbformat": 4,
 "nbformat_minor": 2
}
