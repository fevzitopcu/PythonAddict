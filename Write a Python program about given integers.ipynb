{
 "cells": [
  {
   "cell_type": "markdown",
   "metadata": {},
   "source": [
    "Python Exercise-3\n",
    "Write a Python program to sum of three given integers. However, if two values are equal sum will be zero."
   ]
  },
  {
   "cell_type": "code",
   "execution_count": 3,
   "metadata": {},
   "outputs": [
    {
     "name": "stdout",
     "output_type": "stream",
     "text": [
      "The sum of the numbers 9\n"
     ]
    }
   ],
   "source": [
    "num1 = int(input(\"Enter number1: \"))\n",
    "num2 = int(input(\"Enter number2: \"))\n",
    "num3 = int(input(\"Enter number3: \"))\n",
    "\n",
    "sum = 0\n",
    "\n",
    "if (num1==num2 or num1==num3 or num2==num3):\n",
    "    print(\"Least two values are equal and the sum is 0\")\n",
    "else :\n",
    "    print(\"The sum of the numbers\", num1+num2+num3)"
   ]
  },
  {
   "cell_type": "markdown",
   "metadata": {},
   "source": [
    "Python Exercise-3 (alternatives)\n",
    "Write a Python program to sum of three given integers. However, if two values are equal sum will be zero."
   ]
  },
  {
   "cell_type": "code",
   "execution_count": 2,
   "metadata": {},
   "outputs": [
    {
     "name": "stdout",
     "output_type": "stream",
     "text": [
      "[5, 6, 8]\n",
      "The sum of the numbers 19\n"
     ]
    }
   ],
   "source": [
    "num = list(map(int,input(\"Enter 3 numbers: \").split()))\n",
    "print(num)\n",
    "\n",
    "if (num[0]==num[1] or num[0]==num[2] or num[1]==num[2]):\n",
    "    print(\"Least two values are equal and the sum is 0\")\n",
    "else :\n",
    "    print(\"The sum of the numbers\", sum(num))\n"
   ]
  },
  {
   "cell_type": "markdown",
   "metadata": {},
   "source": [
    "Python Exercise-3 (alternatives)\n",
    "Write a Python program to sum of three given integers. However, if two values are equal sum will be zero."
   ]
  },
  {
   "cell_type": "code",
   "execution_count": 5,
   "metadata": {},
   "outputs": [
    {
     "name": "stdout",
     "output_type": "stream",
     "text": [
      "[3, 66, 7]\n",
      "The sum of the numbers 76\n"
     ]
    }
   ],
   "source": [
    "num =[]\n",
    "\n",
    "for i in range(3):\n",
    "    num.append(int(input(\"Enter 3 numbers: \")))\n",
    "print(num)\n",
    "\n",
    "if (num[0]==num[1] or num[0]==num[2] or num[1]==num[2]):\n",
    "    print(\"Least two values are equal and the sum is 0\")\n",
    "else :\n",
    "    print(\"The sum of the numbers\", sum(num))\n"
   ]
  },
  {
   "cell_type": "markdown",
   "metadata": {},
   "source": [
    "Python  Exercise-5\n",
    "Write a Python program that will return true if the two given integer values are equal or their sum or difference is 5"
   ]
  },
  {
   "cell_type": "code",
   "execution_count": 12,
   "metadata": {},
   "outputs": [
    {
     "name": "stdout",
     "output_type": "stream",
     "text": [
      "2 7\n",
      "True\n"
     ]
    }
   ],
   "source": [
    "num = list(map(int,input(\"Enter numbers: \").split()))\n",
    "print(*num)\n",
    "\n",
    "print(num[0]==num[1] or num[0]+num[1]==5 or abs(num[0]-num[1])==5)\n"
   ]
  },
  {
   "cell_type": "markdown",
   "metadata": {},
   "source": [
    "Python Exercise-4\n",
    "Write a Python program to sum of two given integers. However, if the sum is between 15 to 20 it will return"
   ]
  },
  {
   "cell_type": "code",
   "execution_count": 6,
   "metadata": {},
   "outputs": [
    {
     "name": "stdout",
     "output_type": "stream",
     "text": [
      "the output:  None\n"
     ]
    }
   ],
   "source": [
    "num1 = int(input(\"Enter number1: \"))\n",
    "num2 = int(input(\"Enter number2: \"))\n",
    "\n",
    "sum =num1+num2\n",
    "\n",
    "print( \"the output: \", sum if 15 < num1+num2 < 20 else None)\n"
   ]
  }
 ],
 "metadata": {
  "interpreter": {
   "hash": "9e420b6fa3fd7b9b81ddbcd254cb3b74e9e7beae700425c33bc97f90b494e529"
  },
  "kernelspec": {
   "display_name": "Python 3.9.2 64-bit",
   "language": "python",
   "name": "python3"
  },
  "language_info": {
   "codemirror_mode": {
    "name": "ipython",
    "version": 3
   },
   "file_extension": ".py",
   "mimetype": "text/x-python",
   "name": "python",
   "nbconvert_exporter": "python",
   "pygments_lexer": "ipython3",
   "version": "3.9.2"
  },
  "orig_nbformat": 4
 },
 "nbformat": 4,
 "nbformat_minor": 2
}
