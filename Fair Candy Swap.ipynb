{
 "cells": [
  {
   "cell_type": "markdown",
   "metadata": {},
   "source": [
    "Python Exercise Fair Candy Swap\n",
    "\n",
    "Alice and Bob have a different total number of candies. You are given two integer arrays AliceSizes and  bobSizes where aliceSizes[i] is the number of candies of the ith box of candy that Alice has and bobSizes[j] is the number of candies of the jth box of candy that Bob has.\n",
    "Since they are friends, they would like to exchange one candy box each so that after the exchange, they both have the same total amount of candy. The total amount of candy a person has is the sum of the number of candies in each box they have.\n",
    "Return an integer array answer where answer[0] is the number of candies in the box that Alice must exchange, and answer[1] is the number of candies in the box that Bob must exchange. If there are multiple answers, you may return any one of them. It is guaranteed that at least one answer exists.\n",
    "Example 1:\n",
    "Input: aliceSizes = [1,1], bobSizes = [2,2]\n",
    "Output: [1,2]\n",
    "Example 2:\n",
    "Input: aliceSizes = [1,2], bobSizes = [2,3]\n",
    "Output: [1,2]\n",
    "Example 3:\n",
    "Input: aliceSizes = [2], bobSizes = [1,3]\n",
    "Output: [2,3]\n",
    "Example 4:\n",
    "Input: aliceSizes = [1,2,5], bobSizes = [2,4]\n",
    "Output: [5,4]\n",
    " \n",
    "Constraints:\n",
    "Alice and Bob have a different total number of candies.\n",
    "There will be at least one valid answer for the given input."
   ]
  },
  {
   "cell_type": "code",
   "execution_count": 9,
   "metadata": {},
   "outputs": [
    {
     "name": "stdout",
     "output_type": "stream",
     "text": [
      "[2, 2, 1, 5, 3]\n",
      "[6, 4, 3]\n"
     ]
    }
   ],
   "source": [
    "aliceSize = [2, 2, 1, 5, 6]\n",
    "bobSize = [3, 4, 3] \n",
    "\n",
    "a, b = aliceSize, bobSize\n",
    "\n",
    "if sum(aliceSize) < sum(bobSize):\n",
    "    a, b = bobSize, aliceSize\n",
    "diff = int((sum(a)-sum(b))/2)\n",
    "\n",
    "for i in a:\n",
    "    if i == diff:\n",
    "        b.append(i)\n",
    "        a.remove(i)\n",
    "        break\n",
    "    else:\n",
    "        for j in b:\n",
    "            if (i-j) == diff:\n",
    "                break\n",
    "# swap the values\n",
    "a[a.index(i)], b[b.index(j)] = b[b.index(j)], a[a.index(i)]\n",
    "# print results\n",
    "print(aliceSize)\n",
    "print(bobSize)\n"
   ]
  },
  {
   "cell_type": "code",
   "execution_count": null,
   "metadata": {},
   "outputs": [],
   "source": []
  },
  {
   "cell_type": "code",
   "execution_count": null,
   "metadata": {},
   "outputs": [],
   "source": []
  },
  {
   "cell_type": "code",
   "execution_count": null,
   "metadata": {},
   "outputs": [],
   "source": []
  },
  {
   "cell_type": "code",
   "execution_count": null,
   "metadata": {},
   "outputs": [],
   "source": []
  },
  {
   "cell_type": "code",
   "execution_count": null,
   "metadata": {},
   "outputs": [],
   "source": [
    "a=5\n",
    "b=4\n",
    "\n",
    "def swap(s1, s2):\n",
    "    return s2, s1\n",
    "\n",
    "s1, s2 = swap(a, b)\n",
    "\n",
    "print(a,b)\n"
   ]
  }
 ],
 "metadata": {
  "interpreter": {
   "hash": "9e420b6fa3fd7b9b81ddbcd254cb3b74e9e7beae700425c33bc97f90b494e529"
  },
  "kernelspec": {
   "display_name": "Python 3.9.2 64-bit",
   "language": "python",
   "name": "python3"
  },
  "language_info": {
   "codemirror_mode": {
    "name": "ipython",
    "version": 3
   },
   "file_extension": ".py",
   "mimetype": "text/x-python",
   "name": "python",
   "nbconvert_exporter": "python",
   "pygments_lexer": "ipython3",
   "version": "3.9.2"
  },
  "orig_nbformat": 4
 },
 "nbformat": 4,
 "nbformat_minor": 2
}
