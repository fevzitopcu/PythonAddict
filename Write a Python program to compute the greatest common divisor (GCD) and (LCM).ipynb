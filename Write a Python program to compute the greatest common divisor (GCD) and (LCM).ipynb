{
 "cells": [
  {
   "cell_type": "markdown",
   "metadata": {},
   "source": [
    "\n",
    "2- Write a Python program to compute the greatest common divisor (GCD) of two positive integers\n",
    "\n",
    "The steps to calculate the GCD of (a, b) using the LCM method is:\n",
    "Step 1: Find the product of a and b.\n",
    "Step 2: Find the least common multiple (LCM) of a and b.\n",
    "Step 3: Divide the values obtained in Step 1 and Step 2.\n",
    "Step 4: The obtained value after division is the greatest common divisor of (a, b).\n"
   ]
  },
  {
   "cell_type": "code",
   "execution_count": 2,
   "metadata": {},
   "outputs": [
    {
     "name": "stdout",
     "output_type": "stream",
     "text": [
      "the calculated GCD of 5 and 66 is 1\n",
      "from the math modul:  1\n"
     ]
    }
   ],
   "source": [
    "import math  # to check the result\n",
    "\n",
    "a = int(input(\"Enter num1:\"))\n",
    "b = int(input(\"Enter num2:\"))\n",
    "\n",
    "\n",
    "for i in range(1,min(a,b)+1):\n",
    "    if a%i==0 and b%i==0:\n",
    "        GCD = i\n",
    "        \n",
    "print(f\"the calculated GCD of {a} and {b} is {GCD}\")\n",
    "print(\"from the math modul: \" , math.gcd(a, b))      "
   ]
  },
  {
   "cell_type": "markdown",
   "metadata": {},
   "source": [
    "Write a Python program to get the least common multiple (LCM) of two positive integers."
   ]
  },
  {
   "cell_type": "code",
   "execution_count": 1,
   "metadata": {},
   "outputs": [
    {
     "name": "stdout",
     "output_type": "stream",
     "text": [
      "the calculated LCM of 23 and 44 is 1012\n",
      "check the LCM from the math modul:  1012\n"
     ]
    }
   ],
   "source": [
    "import math\n",
    "\n",
    "a = int(input(\"Enter num1:\"))\n",
    "b = int(input(\"Enter num2:\"))\n",
    "\n",
    "\n",
    "\n",
    "for i in range(1,max(a,b)):\n",
    "    if a%i==0 and b%i==0:\n",
    "        GCD = i\n",
    "        \n",
    "print(f\"the calculated LCM of {a} and {b} is {int(a*b/GCD)}\")\n",
    "print(\"check the LCM from the math modul: \" , math.lcm(a, b))"
   ]
  }
 ],
 "metadata": {
  "interpreter": {
   "hash": "9e420b6fa3fd7b9b81ddbcd254cb3b74e9e7beae700425c33bc97f90b494e529"
  },
  "kernelspec": {
   "display_name": "Python 3.9.2 64-bit",
   "language": "python",
   "name": "python3"
  },
  "language_info": {
   "codemirror_mode": {
    "name": "ipython",
    "version": 3
   },
   "file_extension": ".py",
   "mimetype": "text/x-python",
   "name": "python",
   "nbconvert_exporter": "python",
   "pygments_lexer": "ipython3",
   "version": "3.9.2"
  },
  "orig_nbformat": 4
 },
 "nbformat": 4,
 "nbformat_minor": 2
}
