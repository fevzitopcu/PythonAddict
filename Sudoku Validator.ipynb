{
 "cells": [
  {
   "cell_type": "markdown",
   "metadata": {},
   "source": [
    "Sudoku Background\n",
    "Sudoku is a game played on a 9x9 grid. The goal of the game is to fill all cells of the grid with digits from 1 to 9, so that each column, each row, and each of the nine 3x3 sub-grids (also known as blocks) contain all of the digits from 1 to 9.\n",
    "(More info at: http://en.wikipedia.org/wiki/Sudoku)\n",
    "Sudoku Solution Validator\n",
    "Write a function validSolution/ValidateSolution/valid_solution() that accepts a 2D array representing a Sudoku board, and returns true if it is a valid solution, or false otherwise. The cells of the sudoku board may also contain 0's, which will represent empty cells. Boards containing one or more zeroes are considered to be invalid solutions.\n",
    "The board is always 9 cells by 9 cells, and every cell only contains integers from 0 to 9.\n",
    "Examples\n",
    "validSolution([\n",
    "  [5, 3, 4, 6, 7, 8, 9, 1, 2],\n",
    "  [6, 7, 2, 1, 9, 5, 3, 4, 8],\n",
    "  [1, 9, 8, 3, 4, 2, 5, 6, 7],\n",
    "  [8, 5, 9, 7, 6, 1, 4, 2, 3],\n",
    "  [4, 2, 6, 8, 5, 3, 7, 9, 1],\n",
    "  [7, 1, 3, 9, 2, 4, 8, 5, 6],\n",
    "  [9, 6, 1, 5, 3, 7, 2, 8, 4],\n",
    "  [2, 8, 7, 4, 1, 9, 6, 3, 5],\n",
    "  [3, 4, 5, 2, 8, 6, 1, 7, 9]\n",
    "]); // => true\n",
    "validSolution([\n",
    "  [5, 3, 4, 6, 7, 8, 9, 1, 2], \n",
    "  [6, 7, 2, 1, 9, 0, 3, 4, 8],\n",
    "  [1, 0, 0, 3, 4, 2, 5, 6, 0],\n",
    "  [8, 5, 9, 7, 6, 1, 0, 2, 0],\n",
    "  [4, 2, 6, 8, 5, 3, 7, 9, 1],\n",
    "  [7, 1, 3, 9, 2, 4, 8, 5, 6],\n",
    "  [9, 0, 1, 5, 3, 7, 2, 1, 4],\n",
    "  [2, 8, 7, 4, 1, 9, 6, 3, 5],\n",
    "  [3, 0, 0, 4, 8, 1, 1, 7, 9]\n",
    "]); // => false"
   ]
  },
  {
   "cell_type": "code",
   "execution_count": 8,
   "metadata": {},
   "outputs": [
    {
     "name": "stdout",
     "output_type": "stream",
     "text": [
      "[5, 3, 4, 6, 7, 8, 9, 1, 2]\n",
      "[6, 7, 2, 1, 9, 5, 3, 4, 8]\n",
      "9\n"
     ]
    }
   ],
   "source": [
    "validSolution = ([\n",
    "  [5, 3, 4, 6, 7, 8, 9, 1, 2],\n",
    "  [6, 7, 2, 1, 9, 5, 3, 4, 8],\n",
    "  [1, 9, 8, 3, 4, 2, 5, 6, 7],\n",
    "  [8, 5, 9, 7, 6, 1, 4, 2, 3],\n",
    "  [4, 2, 6, 8, 5, 3, 7, 9, 1],\n",
    "  [7, 1, 3, 9, 2, 4, 8, 5, 6],\n",
    "  [9, 6, 1, 5, 3, 7, 2, 8, 4],\n",
    "  [2, 8, 7, 4, 1, 9, 6, 3, 5],\n",
    "  [3, 4, 5, 2, 8, 6, 1, 7, 9]\n",
    "])\n",
    "\n",
    "print(validSolution[0])\n",
    "print(validSolution[1])\n",
    "print(len(validSolution[0]))"
   ]
  },
  {
   "cell_type": "code",
   "execution_count": 9,
   "metadata": {},
   "outputs": [
    {
     "name": "stdout",
     "output_type": "stream",
     "text": [
      "True\n",
      "[[5, 6, 1, 8, 4, 7, 9, 2, 3], [3, 7, 9, 5, 2, 1, 6, 8, 4], [4, 2, 8, 9, 6, 3, 1, 7, 5], [6, 1, 3, 7, 8, 9, 5, 4, 2], [7, 9, 4, 6, 5, 2, 3, 1, 8], [8, 5, 2, 1, 3, 4, 7, 9, 6], [9, 3, 5, 4, 7, 8, 2, 6, 1], [1, 4, 6, 2, 9, 5, 8, 3, 7], [2, 8, 7, 3, 1, 6, 4, 5, 9]]\n"
     ]
    }
   ],
   "source": [
    "nums = \"123456789\"\n",
    "sudoku =  []\n",
    "for i in range(len(validSolution)) :\n",
    "  temp = []\n",
    "  for k in validSolution :\n",
    "    temp += [k[i]]\n",
    "  sudoku += [temp]\n",
    "\n",
    "print(all([str(j) in nums and len(set(row)) == len(row) for row in validSolution for j in row]) and all([str(k) in nums and len(set(n_rows)) == len(n_rows) for n_rows in sudoku for k in n_rows]))\n"
   ]
  }
 ],
 "metadata": {
  "interpreter": {
   "hash": "9e420b6fa3fd7b9b81ddbcd254cb3b74e9e7beae700425c33bc97f90b494e529"
  },
  "kernelspec": {
   "display_name": "Python 3.9.2 64-bit",
   "language": "python",
   "name": "python3"
  },
  "language_info": {
   "codemirror_mode": {
    "name": "ipython",
    "version": 3
   },
   "file_extension": ".py",
   "mimetype": "text/x-python",
   "name": "python",
   "nbconvert_exporter": "python",
   "pygments_lexer": "ipython3",
   "version": "3.9.2"
  },
  "orig_nbformat": 4
 },
 "nbformat": 4,
 "nbformat_minor": 2
}
