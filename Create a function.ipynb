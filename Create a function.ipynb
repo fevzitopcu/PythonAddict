{
 "cells": [
  {
   "cell_type": "markdown",
   "metadata": {},
   "source": [
    "<html lang=\"en\">\n",
    "\n",
    "<body>\n",
    "    <p>\n",
    "        Create a function to check if a candidate is qualified in an imaginary coding interview of an imaginary tech\n",
    "        startup.\n",
    "        The criteria for a candidate to be qualified in the coding interview is:\n",
    "        The candidate should have complete all the questions.\n",
    "        The maximum time given to complete the interview is 120 minutes.\n",
    "        The maximum time given for very easy questions is 5 minutes each.\n",
    "        The maximum time given for easy questions is 10 minutes each.\n",
    "        The maximum time given for medium questions is 15 minutes each.\n",
    "        The maximum time given for hard questions is 20 minutes each.\n",
    "        If all the above conditions are satisfied, return \"qualified\", else return \"disqualified\".\n",
    "        You will be given a list of time taken by a candidate to solve a particular question and the total time taken by\n",
    "        the candidate to complete the interview.\n",
    "        Given a list , in a true condition will always be in the format [very easy, very easy, easy, easy, medium,\n",
    "        medium, hard, hard].\n",
    "        The maximum time to complete the interview includes a buffer time of 20 minutes.\n",
    "        Examples\n",
    "        interview([5, 5, 10, 10, 15, 15, 20, 20], 120) ➞ \"qualified\"\n",
    "\n",
    "        interview([2, 3, 8, 6, 5, 12, 10, 18], 64) ➞ \"qualified\"\n",
    "\n",
    "        interview([5, 5, 10, 10, 25, 15, 20, 20], 120) ➞ \"disqualified\"\n",
    "        # Exceeded the time limit for a medium question.\n",
    "\n",
    "        interview([5, 5, 10, 10, 15, 15, 20], 120) ➞ \"disqualified\"\n",
    "        # Did not complete all the questions.\n",
    "\n",
    "        interview([5, 5, 10, 10, 15, 15, 20, 20], 130) ➞ \"disqualified\"\n",
    "        # Solved all the questions in their respected time limits but exceeded the total\n",
    "    </p>\n",
    "</body>\n",
    "\n",
    "</html>"
   ]
  },
  {
   "cell_type": "code",
   "execution_count": 33,
   "metadata": {},
   "outputs": [
    {
     "data": {
      "text/plain": [
       "'qualified'"
      ]
     },
     "execution_count": 33,
     "metadata": {},
     "output_type": "execute_result"
    }
   ],
   "source": [
    "def interview(list, time):\n",
    "    if len(list) < 8 or time > 120 or sum(list) > 120:\n",
    "        return \"disqualified\"\n",
    "    elif check_Question_time(list):\n",
    "        return \"disqualified\"\n",
    "    else:\n",
    "        return \"qualified\"\n",
    "\n",
    "\n",
    "def check_Question_time(list):\n",
    "    for i in list[0:2]:\n",
    "        if i > 5:\n",
    "            return True\n",
    "    for i in list[2:4]:\n",
    "        if i > 10:\n",
    "            return True\n",
    "    for i in list[4:6]:\n",
    "        if i > 15:\n",
    "            return True\n",
    "    for i in list[6:]:\n",
    "        if i > 20:\n",
    "            return True\n",
    "\n",
    "\n",
    "exam = ([5, 5, 10, 10, 15, 15, 20, 20], 120)\n",
    "list = exam[0]\n",
    "time = exam[1]\n",
    "interview(list, time)\n"
   ]
  },
  {
   "cell_type": "code",
   "execution_count": 37,
   "metadata": {},
   "outputs": [
    {
     "data": {
      "text/plain": [
       "'Qualified'"
      ]
     },
     "execution_count": 37,
     "metadata": {},
     "output_type": "execute_result"
    }
   ],
   "source": [
    "def interview(list_, sum_):\n",
    "    interview_time = [5, 5, 10, 10, 15, 15, 20, 20]\n",
    "    new_list = list(zip(list_, interview_time))\n",
    "    candidate=\"\"\n",
    "    for i,j in new_list:\n",
    "        if i<=j and len(list_)==8 and sum_<=120:\n",
    "            candidate = \"Qualified\"\n",
    "        else:\n",
    "            candidate = \"not Qualified\"\n",
    "            break\n",
    "    return candidate      \n",
    "    \n",
    "\n",
    "interview([5, 5, 10, 10, 15, 15, 20, 20], 120)"
   ]
  }
 ],
 "metadata": {
  "interpreter": {
   "hash": "9e420b6fa3fd7b9b81ddbcd254cb3b74e9e7beae700425c33bc97f90b494e529"
  },
  "kernelspec": {
   "display_name": "Python 3.9.2 64-bit",
   "language": "python",
   "name": "python3"
  },
  "language_info": {
   "codemirror_mode": {
    "name": "ipython",
    "version": 3
   },
   "file_extension": ".py",
   "mimetype": "text/x-python",
   "name": "python",
   "nbconvert_exporter": "python",
   "pygments_lexer": "ipython3",
   "version": "3.9.2"
  },
  "orig_nbformat": 4
 },
 "nbformat": 4,
 "nbformat_minor": 2
}
