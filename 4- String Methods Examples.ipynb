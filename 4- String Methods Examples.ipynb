{
 "cells": [
  {
   "cell_type": "markdown",
   "metadata": {},
   "source": [
    "Python Exercise\n",
    "You are asked to ensure that the first and last names of people begin with a capital letter in their passports. For example, alison heck should be capitalised correctly as Alison Heck.\n",
    ":exclamation:Note: in a word only the first character is capitalized. Example 12abc when capitalized remains 12abc."
   ]
  },
  {
   "cell_type": "code",
   "execution_count": 14,
   "metadata": {},
   "outputs": [
    {
     "name": "stdout",
     "output_type": "stream",
     "text": [
      "['FEVZİ']\n",
      "Fevzi̇\n"
     ]
    }
   ],
   "source": [
    "name = input(\"Please enter your name : \").split(\" \")\n",
    "print(name)\n",
    "print(\" \".join(i.capitalize() for i in name))"
   ]
  },
  {
   "cell_type": "code",
   "execution_count": 15,
   "metadata": {},
   "outputs": [
    {
     "name": "stdout",
     "output_type": "stream",
     "text": [
      "['fevzi']\n",
      "Fevzi\n"
     ]
    }
   ],
   "source": [
    "# this method gives wrong solutution \n",
    "# even if the entered string startswith alphanumeric characters\n",
    "name = input(\"Please enter your name : \").split(\" \")\n",
    "print(name)\n",
    "print(\" \".join(i.title() for i in name))"
   ]
  },
  {
   "cell_type": "markdown",
   "metadata": {},
   "source": [
    "Python Exercise\n",
    "If the two objects received from the user are of an integer type, write a Python program to sum the two objects"
   ]
  },
  {
   "cell_type": "code",
   "execution_count": 24,
   "metadata": {},
   "outputs": [
    {
     "name": "stdout",
     "output_type": "stream",
     "text": [
      "the sum of 55 and 44 is equal to 99 \n"
     ]
    }
   ],
   "source": [
    "inp1 = input(\"Enter input1: \")\n",
    "inp2 = input(\"Enter input2: \")\n",
    "\n",
    "\n",
    "\n",
    "if inp1.isnumeric() and inp2.isnumeric:\n",
    "    print(f\"the sum of {inp1} and {inp2} is equal to {int(inp1)+int(inp2)} \")\n",
    "else:\n",
    "    print(f\"{inp1} and {inp2} are not numeric\")\n"
   ]
  },
  {
   "cell_type": "markdown",
   "metadata": {},
   "source": [
    "Definition and Usage\n",
    "The capitalize() method returns a string where the first character is upper case, and the rest is lower case."
   ]
  },
  {
   "cell_type": "code",
   "execution_count": 17,
   "metadata": {},
   "outputs": [
    {
     "name": "stdout",
     "output_type": "stream",
     "text": [
      "President barak obama\n",
      "President Barak\n",
      "!president barak obama\n"
     ]
    }
   ],
   "source": [
    "# capitalize() --> Converts the first character to upper case\n",
    "\n",
    "str = \"president barak obama\".capitalize() # only the name will be capitalize\n",
    "print(str)\n",
    "\n",
    "str = \"president barak obama\".split()\n",
    "print(str[0].capitalize(), str[1].capitalize()) # all list items will be capitalize\n",
    "\n",
    "str = \"!president barak obama\".capitalize() # if not string character appears, will not be capitilize\n",
    "print(str)\n"
   ]
  },
  {
   "cell_type": "markdown",
   "metadata": {},
   "source": [
    "Definition and Usage\n",
    "The casefold() method returns a string where all the characters are lower case.\n",
    "\n",
    "This method is similar to the lower() method, but the casefold() method is stronger, more aggressive, meaning that it will convert more characters into lower case, and will find more matches when comparing two strings and both are converted using the casefold() method."
   ]
  },
  {
   "cell_type": "code",
   "execution_count": 18,
   "metadata": {},
   "outputs": [
    {
     "name": "stdout",
     "output_type": "stream",
     "text": [
      "python is fun\n",
      "!hello world!\n",
      "python is fun\n",
      "!hello world!\n",
      "!hello 2world!\n"
     ]
    }
   ],
   "source": [
    "# casefold() --> Converts string into lower case\n",
    "str = \"pyTHon iS Fun\".casefold()\n",
    "print(str)\n",
    "\n",
    "str =\"!HELLO WORLD!\".casefold()\n",
    "print(str)\n",
    "\n",
    "str = \"pyTHon iS Fun\".lower()\n",
    "print(str)\n",
    "\n",
    "str =\"!HELLO WORLD!\".lower()\n",
    "print(str)\n",
    "\n",
    "str =\"!HELLO 2WORLD!\".lower()\n",
    "print(str)"
   ]
  },
  {
   "cell_type": "markdown",
   "metadata": {},
   "source": [
    "center() method\n",
    "\n",
    "Definition and Usage\n",
    "The center() method will center align the string, using a specified character (space is default) as the fill character.\n",
    "\n",
    "Syntax --> string.center(length, character)\n",
    "\n",
    "Parameter Values\n",
    "Parameter\tDescription\n",
    "Length\t    :Required. The length of the returned string\n",
    "Character\t:Optional. The character to fill the missing space on each side. Default is \" \" (space)"
   ]
  },
  {
   "cell_type": "code",
   "execution_count": 19,
   "metadata": {},
   "outputs": [
    {
     "name": "stdout",
     "output_type": "stream",
     "text": [
      "****Hello World!****\n",
      "----Hello World!----\n",
      "    Hello World!    \n"
     ]
    }
   ],
   "source": [
    "str = \"Hello World!\".center(20,\"*\")\n",
    "print(str)\n",
    "\n",
    "str = \"Hello World!\".center(20,\"-\")\n",
    "print(str)\n",
    "\n",
    "str = \"Hello World!\".center(20)\n",
    "print(str)"
   ]
  },
  {
   "cell_type": "markdown",
   "metadata": {},
   "source": [
    "count() method\n",
    "\n",
    "Definition and Usage\n",
    "The count() method returns the number of times a specified value appears in the string.\n",
    "\n",
    "Syntax --> string.count(value, start, end)\n",
    "Parameter Values\n",
    "Parameter\tDescription\n",
    "value\t    :Required. A String. The string to value to search for\n",
    "start\t    :Optional. An Integer. The position to start the search. Default is 0\n",
    "end\t        :Optional. An Integer. The position to end the search. Default is the end of the string"
   ]
  },
  {
   "cell_type": "code",
   "execution_count": 20,
   "metadata": {},
   "outputs": [
    {
     "name": "stdout",
     "output_type": "stream",
     "text": [
      "49\n",
      "14\n",
      "6\n",
      "1\n",
      "0\n"
     ]
    }
   ],
   "source": [
    "str = \"the president Barak Obama wins the last elections\"\n",
    "print(len(str))\n",
    "print(str.index(\"B\")) # return the index of char 'B'\n",
    "\n",
    "str = \"the president Barak Obama wins the last elections\".count(\"e\")\n",
    "print(str)\n",
    "\n",
    "str = \"the president Barak Obama wins the last elections\".count(\"e\",10,22)\n",
    "print(str)\n",
    "\n",
    "str = \"the president Barak Obama wins the last elections\".count(\"W\")\n",
    "print(str)"
   ]
  },
  {
   "cell_type": "markdown",
   "metadata": {},
   "source": [
    "Python Exercise\n",
    "The user enters a string and a substring. You have to print the number of times that the substring occurs in the given string. String traversal will take place from left to right, not from right to left.\n",
    "NOTE: String letters are case-sensitive.\n",
    "Sample Input"
   ]
  },
  {
   "cell_type": "code",
   "execution_count": 21,
   "metadata": {},
   "outputs": [
    {
     "name": "stdout",
     "output_type": "stream",
     "text": [
      "3\n"
     ]
    }
   ],
   "source": [
    "str = \"ABCDADDDDCDD\"\n",
    "sub = \"DD\"\n",
    "\n",
    "str.count(sub)\n",
    "\n",
    "print(str.count(sub))"
   ]
  },
  {
   "cell_type": "code",
   "execution_count": 22,
   "metadata": {},
   "outputs": [
    {
     "name": "stdout",
     "output_type": "stream",
     "text": [
      "0\n"
     ]
    }
   ],
   "source": [
    "str = \"ABCDADDDDCDD\"\n",
    "sub = \"DD\"\n",
    "count = 0\n",
    "\n",
    "for i in str:\n",
    "    if str[str.index(i):].startswith(sub):\n",
    "        count+=1\n",
    "print(count)"
   ]
  },
  {
   "cell_type": "code",
   "execution_count": 25,
   "metadata": {},
   "outputs": [
    {
     "name": "stdout",
     "output_type": "stream",
     "text": [
      "ABCDADDADDCDDA\n",
      "DDA\n",
      "2\n"
     ]
    }
   ],
   "source": [
    "str = \"ABCDADDADDCDDa\".upper()\n",
    "print(str)\n",
    "sub_str= \"DDA\".upper()\n",
    "print(sub_str)\n",
    "count = 0\n",
    "for i in range(len(str)) :\n",
    "  if str[i:i+len(sub_str)] == sub_str :\n",
    "    count += 1\n",
    "print(count)"
   ]
  }
 ],
 "metadata": {
  "interpreter": {
   "hash": "9e420b6fa3fd7b9b81ddbcd254cb3b74e9e7beae700425c33bc97f90b494e529"
  },
  "kernelspec": {
   "display_name": "Python 3.9.2 64-bit",
   "language": "python",
   "name": "python3"
  },
  "language_info": {
   "codemirror_mode": {
    "name": "ipython",
    "version": 3
   },
   "file_extension": ".py",
   "mimetype": "text/x-python",
   "name": "python",
   "nbconvert_exporter": "python",
   "pygments_lexer": "ipython3",
   "version": "3.9.2"
  },
  "orig_nbformat": 4
 },
 "nbformat": 4,
 "nbformat_minor": 2
}
